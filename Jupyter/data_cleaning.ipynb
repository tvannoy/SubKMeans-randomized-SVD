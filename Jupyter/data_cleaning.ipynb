{
 "cells": [
  {
   "cell_type": "code",
   "execution_count": 2,
   "metadata": {},
   "outputs": [],
   "source": [
    "import numpy as np\n",
    "import pickle\n",
    "import csv"
   ]
  },
  {
   "cell_type": "code",
   "execution_count": null,
   "metadata": {},
   "outputs": [],
   "source": [
    "with open(\"Data/seeds.txt\", 'r') as f:\n",
    "    lines = f.readlines()\n",
    "    data = []\n",
    "    for l in lines:\n",
    "        l = l.strip().split(\"\\t\")\n",
    "        l = [float(i) for i in l[:-1] if i is not '']\n",
    "        data.append(l)\n",
    "    \n",
    "    data = np.vstack(data)\n",
    "    \n",
    "with open(\"Data/seeds.p\", 'wb') as f:\n",
    "    pickle.dump(data, f, protocol=pickle.HIGHEST_PROTOCOL)"
   ]
  },
  {
   "cell_type": "code",
   "execution_count": 16,
   "metadata": {},
   "outputs": [],
   "source": [
    "with open(\"Data/ecoli.txt\", 'r') as f:\n",
    "    lines = f.readlines()\n",
    "    data = []\n",
    "    for l in lines:\n",
    "        l = l.strip().split(\" \")\n",
    "        l = [float(i) for i in l[1:-1] if i is not '']\n",
    "        data.append(l)\n",
    "    \n",
    "    data = np.vstack(data)\n",
    "    \n",
    "with open(\"Data/ecoli.p\", 'wb') as f:\n",
    "    pickle.dump(data, f, protocol=pickle.HIGHEST_PROTOCOL)"
   ]
  },
  {
   "cell_type": "code",
   "execution_count": 25,
   "metadata": {},
   "outputs": [
    {
     "name": "stdout",
     "output_type": "stream",
     "text": [
      "['Class', 'User', 'X0', 'Y0', 'Z0', 'X1', 'Y1', 'Z1', 'X2', 'Y2', 'Z2', 'X3', 'Y3', 'Z3', 'X4', 'Y4', 'Z4', 'X5', 'Y5', 'Z5', 'X6', 'Y6', 'Z6', 'X7', 'Y7', 'Z7', 'X8', 'Y8', 'Z8', 'X9', 'Y9', 'Z9', 'X10', 'Y10', 'Z10', 'X11', 'Y11', 'Z11']\n",
      "['0', '0', '0', '0', '0', '0', '0', '0', '0', '0', '0', '0', '0', '0', '0', '0', '0', '0', '0', '0', '0', '0', '0', '0', '0', '0', '0', '0', '0', '0', '0', '0', '0', '0', '0', '0', '0', '0']\n"
     ]
    }
   ],
   "source": [
    "with open(\"Data/Postures.csv\") as f:\n",
    "    reader = csv.reader(f, delimiter=',')\n",
    "    data = []\n",
    "    r = iter(reader)\n",
    "    print(next(r))\n",
    "    print(next(r))\n",
    "    \n",
    "    for l in r:\n",
    "        l = [float(i) for i in l[0:11]]\n",
    "        data.append(l)\n",
    "        \n",
    "    data = np.vstack(data)\n",
    "        \n",
    "with open(\"Data/postures.p\", 'wb') as f:\n",
    "    pickle.dump(data, f, protocol=pickle.HIGHEST_PROTOCOL)"
   ]
  },
  {
   "cell_type": "code",
   "execution_count": 7,
   "metadata": {},
   "outputs": [],
   "source": [
    "with open(\"Data/madelon.txt\", 'r') as f:\n",
    "    lines = f.readlines()\n",
    "    data = []\n",
    "    for l in lines:\n",
    "        l = l.strip().split(\" \")\n",
    "        l = [float(i) for i in l[:-1] if i is not '']\n",
    "        data.append(l)\n",
    "    \n",
    "    data = np.vstack(data)\n",
    "    \n",
    "with open(\"Data/madelon.p\", 'wb') as f:\n",
    "    pickle.dump(data, f, protocol=pickle.HIGHEST_PROTOCOL)"
   ]
  },
  {
   "cell_type": "code",
   "execution_count": 11,
   "metadata": {},
   "outputs": [],
   "source": [
    "with open(\"Data/dim512.txt\", 'r') as f:\n",
    "    lines = f.readlines()\n",
    "    data = []\n",
    "    for l in lines[0:-1]:\n",
    "        l = l.strip().split(\" \")\n",
    "        l = [float(i) for i in l[:-1] if i is not '']\n",
    "        data.append(l)\n",
    "    \n",
    "    data = np.vstack(data)\n",
    "    \n",
    "with open(\"Data/dims512.p\", 'wb') as f:\n",
    "    pickle.dump(data, f, protocol=pickle.HIGHEST_PROTOCOL)"
   ]
  },
  {
   "cell_type": "code",
   "execution_count": null,
   "metadata": {},
   "outputs": [],
   "source": []
  }
 ],
 "metadata": {
  "kernelspec": {
   "display_name": "Python 3",
   "language": "python",
   "name": "python3"
  },
  "language_info": {
   "codemirror_mode": {
    "name": "ipython",
    "version": 3
   },
   "file_extension": ".py",
   "mimetype": "text/x-python",
   "name": "python",
   "nbconvert_exporter": "python",
   "pygments_lexer": "ipython3",
   "version": "3.6.5"
  }
 },
 "nbformat": 4,
 "nbformat_minor": 2
}
