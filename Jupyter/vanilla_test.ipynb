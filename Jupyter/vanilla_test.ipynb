{
 "cells": [
  {
   "cell_type": "code",
   "execution_count": 19,
   "metadata": {},
   "outputs": [],
   "source": [
    "import numpy as np\n",
    "import matplotlib.pyplot as plt\n",
    "from sklearn import preprocessing\n",
    "from sklearn import datasets\n",
    "import fbpca\n",
    "import sklearn.decomposition\n",
    "\n",
    "from cluster import *"
   ]
  },
  {
   "cell_type": "code",
   "execution_count": null,
   "metadata": {},
   "outputs": [],
   "source": [
    "def sklearn_randomized_svd(X, rank=50):\n",
    "    tsvd = sklearn.decomposition.TruncatedSVD(rank, algorithm=\"randomized\", n_iter=1)\n",
    "    X_reduced = tsvd.fit_transform(X)\n",
    "    return (tsvd, X_reduced)\n",
    "\n",
    "def sklearn_arpack_svd(X, rank=50):\n",
    "    tsvd = sklearn.decomposition.TruncatedSVD(rank, algorithm=\"arpack\")\n",
    "    X_reduced = tsvd.fit_transform(X)\n",
    "    return (tsvd, X_reduced)"
   ]
  },
  {
   "cell_type": "code",
   "execution_count": null,
   "metadata": {},
   "outputs": [],
   "source": [
    "n_rows = 5000\n",
    "n_cols = 5000\n",
    "rank = 50\n",
    "\n",
    "left = np.random.randn(n_rows, rank)\n",
    "right = np.random.randn(rank, n_cols)\n",
    "full = np.dot(left, right)"
   ]
  },
  {
   "cell_type": "code",
   "execution_count": null,
   "metadata": {},
   "outputs": [],
   "source": [
    "%time np.linalg.eigh(full)"
   ]
  },
  {
   "cell_type": "code",
   "execution_count": null,
   "metadata": {},
   "outputs": [],
   "source": [
    "%time sklearn_randomized_svd(full)"
   ]
  },
  {
   "cell_type": "code",
   "execution_count": null,
   "metadata": {},
   "outputs": [],
   "source": [
    "%time sklearn_arpack_svd(full)"
   ]
  },
  {
   "cell_type": "code",
   "execution_count": null,
   "metadata": {},
   "outputs": [],
   "source": [
    "%time fbpca.pca(full, k=50, raw=True)"
   ]
  },
  {
   "cell_type": "markdown",
   "metadata": {},
   "source": [
    "## Test on small synthetic dataset"
   ]
  },
  {
   "cell_type": "code",
   "execution_count": null,
   "metadata": {},
   "outputs": [],
   "source": [
    "data = np.array([[1,1],[1.1,1.1],[0.9,0.9], [5,5],[5.2,4.9], [4.8,5.3]])"
   ]
  },
  {
   "cell_type": "code",
   "execution_count": null,
   "metadata": {},
   "outputs": [],
   "source": [
    "X = preprocessing.scale(data)"
   ]
  },
  {
   "cell_type": "code",
   "execution_count": null,
   "metadata": {},
   "outputs": [],
   "source": [
    "kmeans = subkmeans.SubKmeans(2, X)\n",
    "comp = SubKMeans.SubKMeans(2)"
   ]
  },
  {
   "cell_type": "code",
   "execution_count": null,
   "metadata": {},
   "outputs": [],
   "source": [
    "kmeans._find_cluster_assignment()\n",
    "print(comp.get_projection_matrix(1,2))"
   ]
  },
  {
   "cell_type": "code",
   "execution_count": null,
   "metadata": {},
   "outputs": [],
   "source": [
    "print(kmeans.m)\n",
    "print(comp.m)"
   ]
  },
  {
   "cell_type": "code",
   "execution_count": null,
   "metadata": {},
   "outputs": [],
   "source": [
    "kmeans.run()"
   ]
  },
  {
   "cell_type": "code",
   "execution_count": null,
   "metadata": {},
   "outputs": [],
   "source": [
    "print(kmeans.assignments)"
   ]
  },
  {
   "cell_type": "code",
   "execution_count": null,
   "metadata": {},
   "outputs": [],
   "source": [
    "print(kmeans.centroids)"
   ]
  },
  {
   "cell_type": "code",
   "execution_count": null,
   "metadata": {},
   "outputs": [],
   "source": [
    "cluster1 = np.vstack(kmeans.assignments[0])\n",
    "cluster2 = np.vstack(kmeans.assignments[1])\n",
    "plt.scatter(cluster1[:,0], cluster1[:,1], color='red')\n",
    "plt.scatter(cluster2[:,0], cluster2[:,1], color='blue')"
   ]
  },
  {
   "cell_type": "markdown",
   "metadata": {},
   "source": [
    "## Testing on Wine"
   ]
  },
  {
   "cell_type": "code",
   "execution_count": 20,
   "metadata": {},
   "outputs": [
    {
     "name": "stdout",
     "output_type": "stream",
     "text": [
      "(178, 13)\n"
     ]
    }
   ],
   "source": [
    "wine = datasets.load_wine()\n",
    "print(wine.data.shape)"
   ]
  },
  {
   "cell_type": "code",
   "execution_count": 21,
   "metadata": {},
   "outputs": [],
   "source": [
    "X = preprocessing.scale(wine.data)\n",
    "kmeans = SubKmeans(3, X)"
   ]
  },
  {
   "cell_type": "code",
   "execution_count": 22,
   "metadata": {},
   "outputs": [
    {
     "name": "stdout",
     "output_type": "stream",
     "text": [
      "NMI: 1.0, n_iter: 5\n"
     ]
    },
    {
     "name": "stderr",
     "output_type": "stream",
     "text": [
      "/usr/lib/python3.7/site-packages/sklearn/metrics/cluster/supervised.py:844: FutureWarning: The behavior of NMI will change in version 0.22. To match the behavior of 'v_measure_score', NMI will use average_method='arithmetic' by default.\n",
      "  FutureWarning)\n"
     ]
    }
   ],
   "source": [
    "kmeans.run()"
   ]
  },
  {
   "cell_type": "code",
   "execution_count": 23,
   "metadata": {},
   "outputs": [
    {
     "data": {
      "text/plain": [
       "<matplotlib.collections.PathCollection at 0x7fcc128aa588>"
      ]
     },
     "execution_count": 23,
     "metadata": {},
     "output_type": "execute_result"
    },
    {
     "data": {
      "image/png": "[encoded data removed]",
      "text/plain": [
       "<Figure size 432x288 with 1 Axes>"
      ]
     },
     "metadata": {
      "needs_background": "light"
     },
     "output_type": "display_data"
    }
   ],
   "source": [
    "cluster1 = np.vstack(kmeans.assignments[0])\n",
    "cluster2 = np.vstack(kmeans.assignments[1])\n",
    "cluster3 = np.vstack(kmeans.assignments[2])\n",
    "plt.scatter(cluster1[:,0], cluster1[:,1], color='red')\n",
    "plt.scatter(cluster2[:,0], cluster2[:,1], color='blue')\n",
    "plt.scatter(cluster3[:,0], cluster3[:,1], color='green')"
   ]
  },
  {
   "cell_type": "markdown",
   "metadata": {},
   "source": [
    "### Project to cluster space"
   ]
  },
  {
   "cell_type": "code",
   "execution_count": 25,
   "metadata": {},
   "outputs": [],
   "source": [
    "c1 = (kmeans.pc.T @ kmeans.transform.T @ cluster1.T).T\n",
    "c2 = (kmeans.pc.T @ kmeans.transform.T @ cluster2.T).T\n",
    "c3 = (kmeans.pc.T @ kmeans.transform.T @ cluster3.T).T\n",
    "#other = (comp.pT @ comp.V @ comp.X.T).T"
   ]
  },
  {
   "cell_type": "code",
   "execution_count": 26,
   "metadata": {},
   "outputs": [
    {
     "data": {
      "text/plain": [
       "<matplotlib.collections.PathCollection at 0x7fcc12847128>"
      ]
     },
     "execution_count": 26,
     "metadata": {},
     "output_type": "execute_result"
    },
    {
     "data": {
      "image/png": "[encoded data removed]",
      "text/plain": [
       "<Figure size 432x288 with 1 Axes>"
      ]
     },
     "metadata": {
      "needs_background": "light"
     },
     "output_type": "display_data"
    }
   ],
   "source": [
    "plt.scatter(c1[:,0], c1[:,1], color='red')\n",
    "plt.scatter(c2[:,0], c2[:,1], color='blue')\n",
    "plt.scatter(c3[:,0], c3[:,1], color='green')"
   ]
  },
  {
   "cell_type": "markdown",
   "metadata": {},
   "source": [
    "### Project to noise space"
   ]
  },
  {
   "cell_type": "code",
   "execution_count": 27,
   "metadata": {},
   "outputs": [],
   "source": [
    "c1 = (kmeans.pn.T @ kmeans.transform.T @ cluster1.T).T\n",
    "c2 = (kmeans.pn.T @ kmeans.transform.T @ cluster2.T).T\n",
    "c3 = (kmeans.pn.T @ kmeans.transform.T @ cluster3.T).T\n",
    "#other = (comp.pT @ comp.V @ comp.X.T).T"
   ]
  },
  {
   "cell_type": "code",
   "execution_count": 28,
   "metadata": {},
   "outputs": [
    {
     "data": {
      "text/plain": [
       "<matplotlib.collections.PathCollection at 0x7fcc127abb70>"
      ]
     },
     "execution_count": 28,
     "metadata": {},
     "output_type": "execute_result"
    },
    {
     "data": {
      "image/png": "[encoded data removed]",
      "text/plain": [
       "<Figure size 432x288 with 1 Axes>"
      ]
     },
     "metadata": {
      "needs_background": "light"
     },
     "output_type": "display_data"
    }
   ],
   "source": [
    "plt.scatter(c1[:,0], c1[:,1], color='red')\n",
    "plt.scatter(c2[:,0], c2[:,1], color='blue')\n",
    "plt.scatter(c3[:,0], c3[:,1], color='green')"
   ]
  },
  {
   "cell_type": "markdown",
   "metadata": {},
   "source": [
    "## Test on sample dataset provided by original authors"
   ]
  },
  {
   "cell_type": "code",
   "execution_count": null,
   "metadata": {},
   "outputs": [],
   "source": [
    "# dataset from authors\n",
    "sample = np.genfromtxt('test/sample.dat', delimiter=';')\n",
    "\n",
    "# result of running original scala code on dataset\n",
    "sample_result = np.genfromtxt('test/sample_result.dat', delimiter=';')"
   ]
  },
  {
   "cell_type": "code",
   "execution_count": null,
   "metadata": {},
   "outputs": [],
   "source": [
    "X = preprocessing.scale(sample[:,1:6])\n",
    "kmeans = subkmeans.SubKmeans(3, X)"
   ]
  },
  {
   "cell_type": "code",
   "execution_count": null,
   "metadata": {},
   "outputs": [],
   "source": [
    "kmeans.run()"
   ]
  },
  {
   "cell_type": "code",
   "execution_count": null,
   "metadata": {},
   "outputs": [],
   "source": [
    "cluster1 = np.vstack(kmeans.assignments[0])\n",
    "cluster2 = np.vstack(kmeans.assignments[1])\n",
    "cluster3 = np.vstack(kmeans.assignments[2])\n",
    "\n",
    "# cluster subspace projection\n",
    "c1 = (kmeans.pc.T @ kmeans.transform.T @ cluster1.T).T\n",
    "c2 = (kmeans.pc.T @ kmeans.transform.T @ cluster2.T).T\n",
    "c3 = (kmeans.pc.T @ kmeans.transform.T @ cluster3.T).T\n",
    "\n",
    "c11 = np.vstack(kmeans.cluster_space_assignments[0])\n",
    "c22 = np.vstack(kmeans.cluster_space_assignments[1])\n",
    "c33 = np.vstack(kmeans.cluster_space_assignments[2])\n",
    "\n",
    "# XXX: the transformation matrix gets updated as the last step, so cx and cxx are not guaranteed to be the same unless the algorithm has truly converged and V isn't updated on the last iteration\n",
    "\n",
    "# noise subspace projection\n",
    "c1n = np.vstack(kmeans.noise_space_assignments[0])\n",
    "c2n = np.vstack(kmeans.noise_space_assignments[1])\n",
    "c3n = np.vstack(kmeans.noise_space_assignments[2])\n",
    "\n",
    "\n",
    "plt.figure()\n",
    "plt.scatter(cluster1[:,0], cluster1[:,1], color='red')\n",
    "plt.scatter(cluster2[:,0], cluster2[:,1], color='blue')\n",
    "plt.scatter(cluster3[:,0], cluster3[:,1], color='green')\n",
    "plt.title('first/second dimension')\n",
    "plt.figure()\n",
    "plt.scatter(cluster1[:,0], cluster1[:,2], color='red')\n",
    "plt.scatter(cluster2[:,0], cluster2[:,2], color='blue')\n",
    "plt.scatter(cluster3[:,0], cluster3[:,2], color='green')\n",
    "plt.title('fist/third dimension')\n",
    "plt.figure()\n",
    "plt.scatter(cluster1[:,0], cluster1[:,3], color='red')\n",
    "plt.scatter(cluster2[:,0], cluster2[:,3], color='blue')\n",
    "plt.scatter(cluster3[:,0], cluster3[:,3], color='green')\n",
    "plt.title('first/fourth dimension')\n",
    "plt.figure()\n",
    "plt.scatter(c1[:,0], c1[:,1], color='red')\n",
    "plt.scatter(c2[:,0], c2[:,1], color='blue')\n",
    "plt.scatter(c3[:,0], c3[:,1], color='green')\n",
    "plt.title('clustered subspace');\n",
    "plt.figure()\n",
    "plt.scatter(c11[:,0], c11[:,1], color='red')\n",
    "plt.scatter(c22[:,0], c22[:,1], color='blue')\n",
    "plt.scatter(c33[:,0], c33[:,1], color='green')\n",
    "plt.figure()\n",
    "plt.scatter(c1n[:,0], c1n[:,1], color='red')\n",
    "plt.scatter(c2n[:,0], c2n[:,1], color='blue')\n",
    "plt.scatter(c3n[:,0], c3n[:,1], color='green')\n",
    "plt.title('noise subspace');"
   ]
  },
  {
   "cell_type": "markdown",
   "metadata": {},
   "source": [
    "### Check our results against Scala results"
   ]
  },
  {
   "cell_type": "code",
   "execution_count": null,
   "metadata": {},
   "outputs": [],
   "source": [
    "sample_c1 = sample_result[np.where(sample_result[:,0] == 0), 1:6][0,:]\n",
    "sample_c2 = sample_result[np.where(sample_result[:,0] == 1), 1:6][0,:]\n",
    "sample_c3 = sample_result[np.where(sample_result[:,0] == 2), 1:6][0,:]\n",
    "\n",
    "is_same = np.array_equal(np.sort(sample_c1), np.sort(cluster1)) and \\\n",
    "np.array_equal(np.sort(sample_c2), np.sort(cluster2)) and \\\n",
    "np.array_equal(np.sort(sample_c3), np.sort(cluster3))\n",
    "print(is_same)\n",
    "\n",
    "plt.scatter(sample_c1[:,0], sample_c1[:,1], color='red')\n",
    "plt.scatter(sample_c2[:,0], sample_c2[:,1], color='blue')\n",
    "plt.scatter(sample_c3[:,0], sample_c3[:,1], color='green')\n",
    "plt.title('scala output')\n",
    "plt.figure()\n",
    "plt.scatter(c11[:,0], c11[:,1], color='red')\n",
    "plt.scatter(c22[:,0], c22[:,1], color='blue')\n",
    "plt.scatter(c33[:,0], c33[:,1], color='green')\n",
    "plt.title('our output before transformation matrix update')\n",
    "plt.figure()\n",
    "plt.scatter(c1[:,0], c1[:,1], color='red')\n",
    "plt.scatter(c2[:,0], c2[:,1], color='blue')\n",
    "plt.scatter(c3[:,0], c3[:,1], color='green')\n",
    "plt.title('our output after transformation matrix update');"
   ]
  },
  {
   "cell_type": "markdown",
   "metadata": {},
   "source": [
    "The differences between the scala output and our output are probably just from the algorithm only converging to local minima"
   ]
  }
 ],
 "metadata": {
  "kernelspec": {
   "display_name": "Python 3",
   "language": "python",
   "name": "python3"
  },
  "language_info": {
   "codemirror_mode": {
    "name": "ipython",
    "version": 3
   },
   "file_extension": ".py",
   "mimetype": "text/x-python",
   "name": "python",
   "nbconvert_exporter": "python",
   "pygments_lexer": "ipython3",
   "version": "3.7.1"
  },
  "latex_envs": {
   "LaTeX_envs_menu_present": true,
   "autoclose": false,
   "autocomplete": true,
   "bibliofile": "biblio.bib",
   "cite_by": "apalike",
   "current_citInitial": 1,
   "eqLabelWithNumbers": true,
   "eqNumInitial": 1,
   "hotkeys": {
    "equation": "Ctrl-E",
    "itemize": "Ctrl-I"
   },
   "labels_anchors": false,
   "latex_user_defs": false,
   "report_style_numbering": false,
   "user_envs_cfg": false
  },
  "toc": {
   "base_numbering": 1,
   "nav_menu": {},
   "number_sections": false,
   "sideBar": true,
   "skip_h1_title": false,
   "title_cell": "Table of Contents",
   "title_sidebar": "Contents",
   "toc_cell": false,
   "toc_position": {},
   "toc_section_display": true,
   "toc_window_display": false
  }
 },
 "nbformat": 4,
 "nbformat_minor": 2
}
