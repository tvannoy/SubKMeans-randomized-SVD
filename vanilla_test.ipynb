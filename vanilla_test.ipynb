{
 "cells": [
  {
   "cell_type": "code",
   "execution_count": 1,
   "metadata": {},
   "outputs": [],
   "source": [
    "import numpy as np\n",
    "import matplotlib.pyplot as plt\n",
    "\n",
    "import subkmeans"
   ]
  },
  {
   "cell_type": "code",
   "execution_count": 2,
   "metadata": {},
   "outputs": [
    {
     "name": "stdout",
     "output_type": "stream",
     "text": [
      "[[1.  1. ]\n",
      " [1.1 1.1]\n",
      " [0.9 0.9]\n",
      " [5.  5. ]\n",
      " [5.2 4.9]\n",
      " [4.8 5.3]]\n"
     ]
    }
   ],
   "source": [
    "data = np.array([[1,1],[1.1,1.1],[0.9,0.9], [5,5],[5.2,4.9], [4.8,5.3]])\n",
    "print(data)"
   ]
  },
  {
   "cell_type": "code",
   "execution_count": null,
   "metadata": {},
   "outputs": [],
   "source": [
    "plt.scatter(data[:,0], data[:,1])"
   ]
  },
  {
   "cell_type": "code",
   "execution_count": 3,
   "metadata": {},
   "outputs": [],
   "source": [
    "kmeans = subkmeans.SubKmeans(2, data)"
   ]
  },
  {
   "cell_type": "code",
   "execution_count": 4,
   "metadata": {},
   "outputs": [
    {
     "name": "stdout",
     "output_type": "stream",
     "text": [
      "[1. 1.]\n",
      "[5.48394742 5.28435432]\n",
      "1\n",
      "\n",
      "[1.1 1.1]\n",
      "[5.35162145 5.15202835]\n",
      "1\n",
      "\n",
      "[0.9 0.9]\n",
      "[5.61627339 5.41668029]\n",
      "1\n",
      "\n",
      "[5. 5.]\n",
      "[0.19090868 0.00868443]\n",
      "1\n",
      "\n",
      "[5.2 4.9]\n",
      "[0.19959311 0.        ]\n",
      "1\n",
      "\n",
      "[4.8 5.3]\n",
      "[0.         0.19959311]\n",
      "0\n",
      "\n",
      "[1. 1.]\n",
      "[0.35355339 0.04242641]\n",
      "1\n",
      "\n",
      "[1.1 1.1]\n",
      "[0.35355339 0.04242641]\n",
      "1\n",
      "\n",
      "[0.9 0.9]\n",
      "[0.35355339 0.04242641]\n",
      "1\n",
      "\n",
      "[5. 5.]\n",
      "[0.35355339 0.04242641]\n",
      "1\n",
      "\n",
      "[5.2 4.9]\n",
      "[0.56568542 0.16970563]\n",
      "1\n",
      "\n",
      "[4.8 5.3]\n",
      "[0.        0.3959798]\n",
      "0\n",
      "\n"
     ]
    }
   ],
   "source": [
    "kmeans.run(max_iter=10)"
   ]
  },
  {
   "cell_type": "code",
   "execution_count": null,
   "metadata": {},
   "outputs": [],
   "source": [
    "print(kmeans.assignments)"
   ]
  },
  {
   "cell_type": "code",
   "execution_count": null,
   "metadata": {},
   "outputs": [],
   "source": [
    "print(kmeans.centroids)"
   ]
  },
  {
   "cell_type": "code",
   "execution_count": null,
   "metadata": {},
   "outputs": [],
   "source": []
  }
 ],
 "metadata": {
  "kernelspec": {
   "display_name": "Python 3",
   "language": "python",
   "name": "python3"
  },
  "language_info": {
   "codemirror_mode": {
    "name": "ipython",
    "version": 3
   },
   "file_extension": ".py",
   "mimetype": "text/x-python",
   "name": "python",
   "nbconvert_exporter": "python",
   "pygments_lexer": "ipython3",
   "version": "3.6.5"
  }
 },
 "nbformat": 4,
 "nbformat_minor": 2
}
